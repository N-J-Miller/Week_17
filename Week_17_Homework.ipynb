{
 "cells": [
  {
   "cell_type": "markdown",
   "id": "a683f3a1",
   "metadata": {},
   "source": [
    "# Week 17\n",
    "## Ensemble Learning and Random Forest"
   ]
  },
  {
   "cell_type": "code",
   "execution_count": 214,
   "id": "6e3a9da3",
   "metadata": {},
   "outputs": [],
   "source": [
    "# Dependencies and modules:\n",
    "\n",
    "import pandas as pd\n",
    "from pandas import Int64Index as NumericIndex\n",
    "import numpy as np\n",
    "import matplotlib.pyplot as plt\n",
    "import seaborn as sns\n",
    "import time\n",
    "import statsmodels.api as sm\n",
    "import smogn\n",
    "import warnings\n",
    "warnings.filterwarnings('ignore')\n",
    "\n",
    "from pprint import pp\n",
    "\n",
    "from sklearn import metrics\n",
    "from sklearn.metrics import classification_report, roc_curve, roc_auc_score, confusion_matrix, plot_confusion_matrix\n",
    "from sklearn.model_selection import train_test_split, cross_val_score, RandomizedSearchCV\n",
    "from sklearn.linear_model import LinearRegression, LogisticRegression, BayesianRidge\n",
    "from sklearn.neighbors import KNeighborsClassifier\n",
    "from sklearn.metrics import mean_squared_error, r2_score, accuracy_score\n",
    "from sklearn.preprocessing import StandardScaler, PolynomialFeatures\n",
    "from sklearn.svm import SVC\n",
    "from sklearn.tree import DecisionTreeRegressor\n",
    "from sklearn.experimental import enable_iterative_imputer\n",
    "from sklearn.impute import IterativeImputer\n",
    "from sklearn.feature_selection import SelectKBest\n",
    "from sklearn.feature_selection import f_regression\n",
    "from sklearn.ensemble import RandomForestRegressor, RandomForestClassifier, IsolationForest\n",
    "from xgboost import XGBRegressor\n",
    "\n",
    "from imblearn.over_sampling import SMOTE\n",
    "from imblearn.combine import SMOTEENN\n",
    "from imblearn.under_sampling import EditedNearestNeighbours\n",
    "\n",
    "\n",
    "from sklearn.svm import SVC"
   ]
  },
  {
   "cell_type": "markdown",
   "id": "a8a65470",
   "metadata": {},
   "source": [
    "## 1. What is inductive reasoning? Deductive reasoning? Give an example of each, different from the examples given in class."
   ]
  },
  {
   "cell_type": "markdown",
   "id": "39a64001",
   "metadata": {},
   "source": [
    "Deductive reasoning is a logical top-down path where you start with a known, evaluate new information, and follow that information to its logical conclusion. For example, if you know I have three things in my pocket and I pull out a Swiss army knife and a roll of duct tape, you can deduce that I now have one thing in my pocket. \n",
    "\n",
    "Inductive reasoning is more bottom-up thinking. You see the hole that was in my hot air balloon is now patched with duct-tape. Then you see that the access panel on the burner has been opened via removal of it's six screws and some faulty wiring has been cut, stripped, and re-connected. You see a Swiss army knife on the floor of the basket surrounded by six screws. You can reason from these observations that I had at least two things in my pocket when boarding the hot air balloon."
   ]
  },
  {
   "cell_type": "markdown",
   "id": "870cdaf6",
   "metadata": {},
   "source": [
    "## Using ONE of the following sources, complete the questions for only that source. \n",
    "\n",
    "Credit approval: https://archive.ics.uci.edu/ml/datasets/Statlog+%28Australian+Credit+Approval%29\n",
    "\n",
    "Cardiac Arrhythmia: https://archive.ics.uci.edu/ml/datasets/Arrhythmia \n",
    "\n",
    "Abalone age: https://archive.ics.uci.edu/ml/datasets/Abalone - this one is a bit harder since it’s not binary like the others, but if you really want to master these concepts, you should pick this one. Use RMSE as a performance metric if you do this as regression. You should target a value of under 3.\n",
    "\n",
    "#### Note: at least one of your models should have the most relevant performance metric above .90 . All performance metrics should be above .75 . You will partially be graded on model performance.\n"
   ]
  },
  {
   "cell_type": "markdown",
   "id": "96a5636a",
   "metadata": {},
   "source": [
    "### Reading in files and creating a dataframe of the data:"
   ]
  },
  {
   "cell_type": "code",
   "execution_count": 215,
   "id": "9731fd55",
   "metadata": {},
   "outputs": [
    {
     "name": "stdout",
     "output_type": "stream",
     "text": [
      "1. Title of Database: Abalone data\n",
      "\n",
      "2. Sources:\n",
      "\n",
      "   (a) Original owners of database:\n",
      "\tMarine Resources Division\n",
      "\tMarine Research Laboratories - Taroona\n",
      "\tDepartment of Primary Industry and Fisheries, Tasmania\n",
      "\tGPO Box 619F, Hobart, Tasmania 7001, Australia\n",
      "\t(contact: Warwick Nash +61 02 277277, wnash@dpi.tas.gov.au)\n",
      "\n",
      "   (b) Donor of database:\n",
      "\tSam Waugh (Sam.Waugh@cs.utas.edu.au)\n",
      "\tDepartment of Computer Science, University of Tasmania\n",
      "\tGPO Box 252C, Hobart, Tasmania 7001, Australia\n",
      "\n",
      "   (c) Date received: December 1995\n",
      "\n",
      "\n",
      "3. Past Usage:\n",
      "\n",
      "   Sam Waugh (1995) \"Extending and benchmarking Cascade-Correlation\", PhD\n",
      "   thesis, Computer Science Department, University of Tasmania.\n",
      "\n",
      "   -- Test set performance (final 1044 examples, first 3133 used for training):\n",
      "\t24.86% Cascade-Correlation (no hidden nodes)\n",
      "\t26.25% Cascade-Correlation (5 hidden nodes)\n",
      "\t21.5%  C4.5\n",
      "\t 0.0%  Linear Discriminate Analysis\n",
      "\t 3.57% k=5 Nearest Neighbour\n",
      "      (Problem encoded as a classification task)\n",
      "\n",
      "   -- Data set samples are highly overlapped.  Further information is required\n",
      "\tto separate completely using affine combinations.  Other restrictions\n",
      "\tto data set examined.\n",
      "\n",
      "   David Clark, Zoltan Schreter, Anthony Adams \"A Quantitative Comparison of\n",
      "   Dystal and Backpropagation\", submitted to the Australian Conference on\n",
      "   Neural Networks (ACNN'96). Data set treated as a 3-category classification\n",
      "   problem (grouping ring classes 1-8, 9 and 10, and 11 on).\n",
      "\n",
      "   -- Test set performance (3133 training, 1044 testing as above):\n",
      "\t64%    Backprop\n",
      "\t55%    Dystal\n",
      "   -- Previous work (Waugh, 1995) on same data set:\n",
      "\t61.40% Cascade-Correlation (no hidden nodes)\n",
      "\t65.61% Cascade-Correlation (5 hidden nodes)\n",
      "\t59.2%  C4.5\n",
      "\t32.57% Linear Discriminate Analysis\n",
      "\t62.46% k=5 Nearest Neighbour\n",
      "\n",
      "\n",
      "4. Relevant Information Paragraph:\n",
      "\n",
      "   Predicting the age of abalone from physical measurements.  The age of\n",
      "   abalone is determined by cutting the shell through the cone, staining it,\n",
      "   and counting the number of rings through a microscope -- a boring and\n",
      "   time-consuming task.  Other measurements, which are easier to obtain, are\n",
      "   used to predict the age.  Further information, such as weather patterns\n",
      "   and location (hence food availability) may be required to solve the problem.\n",
      "\n",
      "   From the original data examples with missing values were removed (the\n",
      "   majority having the predicted value missing), and the ranges of the\n",
      "   continuous values have been scaled for use with an ANN (by dividing by 200).\n",
      "\n",
      "   Data comes from an original (non-machine-learning) study:\n",
      "\n",
      "\tWarwick J Nash, Tracy L Sellers, Simon R Talbot, Andrew J Cawthorn and\n",
      "\tWes B Ford (1994) \"The Population Biology of Abalone (_Haliotis_\n",
      "\tspecies) in Tasmania. I. Blacklip Abalone (_H. rubra_) from the North\n",
      "\tCoast and Islands of Bass Strait\", Sea Fisheries Division, Technical\n",
      "\tReport No. 48 (ISSN 1034-3288)\n",
      "\n",
      "\n",
      "5. Number of Instances: 4177\n",
      "\n",
      "\n",
      "6. Number of Attributes: 8\n",
      "\n",
      "\n",
      "7. Attribute information:\n",
      "\n",
      "   Given is the attribute name, attribute type, the measurement unit and a\n",
      "   brief description.  The number of rings is the value to predict: either\n",
      "   as a continuous value or as a classification problem.\n",
      "\n",
      "\tName\t\tData Type\tMeas.\tDescription\n",
      "\t----\t\t---------\t-----\t-----------\n",
      "\tSex\t\tnominal\t\t\tM, F, and I (infant)\n",
      "\tLength\t\tcontinuous\tmm\tLongest shell measurement\n",
      "\tDiameter\tcontinuous\tmm\tperpendicular to length\n",
      "\tHeight\t\tcontinuous\tmm\twith meat in shell\n",
      "\tWhole weight\tcontinuous\tgrams\twhole abalone\n",
      "\tShucked weight\tcontinuous\tgrams\tweight of meat\n",
      "\tViscera weight\tcontinuous\tgrams\tgut weight (after bleeding)\n",
      "\tShell weight\tcontinuous\tgrams\tafter being dried\n",
      "\tRings\t\tinteger\t\t\t+1.5 gives the age in years\n",
      "\n",
      "   Statistics for numeric domains:\n",
      "\n",
      "\t\tLength\tDiam\tHeight\tWhole\tShucked\tViscera\tShell\tRings\n",
      "\tMin\t0.075\t0.055\t0.000\t0.002\t0.001\t0.001\t0.002\t    1\n",
      "\tMax\t0.815\t0.650\t1.130\t2.826\t1.488\t0.760\t1.005\t   29\n",
      "\tMean\t0.524\t0.408\t0.140\t0.829\t0.359\t0.181\t0.239\t9.934\n",
      "\tSD\t0.120\t0.099\t0.042\t0.490\t0.222\t0.110\t0.139\t3.224\n",
      "\tCorrel\t0.557\t0.575\t0.557\t0.540\t0.421\t0.504\t0.628\t  1.0\n",
      "\n",
      "\n",
      "8. Missing Attribute Values: None\n",
      "\n",
      "\n",
      "9. Class Distribution:\n",
      "\n",
      "\tClass\tExamples\n",
      "\t-----\t--------\n",
      "\t1\t1\n",
      "\t2\t1\n",
      "\t3\t15\n",
      "\t4\t57\n",
      "\t5\t115\n",
      "\t6\t259\n",
      "\t7\t391\n",
      "\t8\t568\n",
      "\t9\t689\n",
      "\t10\t634\n",
      "\t11\t487\n",
      "\t12\t267\n",
      "\t13\t203\n",
      "\t14\t126\n",
      "\t15\t103\n",
      "\t16\t67\n",
      "\t17\t58\n",
      "\t18\t42\n",
      "\t19\t32\n",
      "\t20\t26\n",
      "\t21\t14\n",
      "\t22\t6\n",
      "\t23\t9\n",
      "\t24\t2\n",
      "\t25\t1\n",
      "\t26\t1\n",
      "\t27\t2\n",
      "\t29\t1\n",
      "\t-----\t----\n",
      "\tTotal\t4177\n",
      "\n"
     ]
    }
   ],
   "source": [
    "# The download consisted of a .names file and a .data file. I will extract column names\n",
    "# from the .name file for the dataframe that will wold the .data data.\n",
    "\n",
    "with open(\"abalone.names\") as f:\n",
    "    print(f.read())"
   ]
  },
  {
   "cell_type": "code",
   "execution_count": 233,
   "id": "8949af2b",
   "metadata": {},
   "outputs": [
    {
     "data": {
      "text/html": [
       "<div>\n",
       "<style scoped>\n",
       "    .dataframe tbody tr th:only-of-type {\n",
       "        vertical-align: middle;\n",
       "    }\n",
       "\n",
       "    .dataframe tbody tr th {\n",
       "        vertical-align: top;\n",
       "    }\n",
       "\n",
       "    .dataframe thead th {\n",
       "        text-align: right;\n",
       "    }\n",
       "</style>\n",
       "<table border=\"1\" class=\"dataframe\">\n",
       "  <thead>\n",
       "    <tr style=\"text-align: right;\">\n",
       "      <th></th>\n",
       "      <th>Sex</th>\n",
       "      <th>Length</th>\n",
       "      <th>Diameter</th>\n",
       "      <th>Height</th>\n",
       "      <th>Whole weight</th>\n",
       "      <th>Shucked weight</th>\n",
       "      <th>Viscera weight</th>\n",
       "      <th>Shell weight</th>\n",
       "      <th>Rings</th>\n",
       "    </tr>\n",
       "  </thead>\n",
       "  <tbody>\n",
       "    <tr>\n",
       "      <th>0</th>\n",
       "      <td>M</td>\n",
       "      <td>0.455</td>\n",
       "      <td>0.365</td>\n",
       "      <td>0.095</td>\n",
       "      <td>0.5140</td>\n",
       "      <td>0.2245</td>\n",
       "      <td>0.1010</td>\n",
       "      <td>0.1500</td>\n",
       "      <td>15</td>\n",
       "    </tr>\n",
       "    <tr>\n",
       "      <th>1</th>\n",
       "      <td>M</td>\n",
       "      <td>0.350</td>\n",
       "      <td>0.265</td>\n",
       "      <td>0.090</td>\n",
       "      <td>0.2255</td>\n",
       "      <td>0.0995</td>\n",
       "      <td>0.0485</td>\n",
       "      <td>0.0700</td>\n",
       "      <td>7</td>\n",
       "    </tr>\n",
       "    <tr>\n",
       "      <th>2</th>\n",
       "      <td>F</td>\n",
       "      <td>0.530</td>\n",
       "      <td>0.420</td>\n",
       "      <td>0.135</td>\n",
       "      <td>0.6770</td>\n",
       "      <td>0.2565</td>\n",
       "      <td>0.1415</td>\n",
       "      <td>0.2100</td>\n",
       "      <td>9</td>\n",
       "    </tr>\n",
       "    <tr>\n",
       "      <th>3</th>\n",
       "      <td>M</td>\n",
       "      <td>0.440</td>\n",
       "      <td>0.365</td>\n",
       "      <td>0.125</td>\n",
       "      <td>0.5160</td>\n",
       "      <td>0.2155</td>\n",
       "      <td>0.1140</td>\n",
       "      <td>0.1550</td>\n",
       "      <td>10</td>\n",
       "    </tr>\n",
       "    <tr>\n",
       "      <th>4</th>\n",
       "      <td>I</td>\n",
       "      <td>0.330</td>\n",
       "      <td>0.255</td>\n",
       "      <td>0.080</td>\n",
       "      <td>0.2050</td>\n",
       "      <td>0.0895</td>\n",
       "      <td>0.0395</td>\n",
       "      <td>0.0550</td>\n",
       "      <td>7</td>\n",
       "    </tr>\n",
       "    <tr>\n",
       "      <th>...</th>\n",
       "      <td>...</td>\n",
       "      <td>...</td>\n",
       "      <td>...</td>\n",
       "      <td>...</td>\n",
       "      <td>...</td>\n",
       "      <td>...</td>\n",
       "      <td>...</td>\n",
       "      <td>...</td>\n",
       "      <td>...</td>\n",
       "    </tr>\n",
       "    <tr>\n",
       "      <th>4172</th>\n",
       "      <td>F</td>\n",
       "      <td>0.565</td>\n",
       "      <td>0.450</td>\n",
       "      <td>0.165</td>\n",
       "      <td>0.8870</td>\n",
       "      <td>0.3700</td>\n",
       "      <td>0.2390</td>\n",
       "      <td>0.2490</td>\n",
       "      <td>11</td>\n",
       "    </tr>\n",
       "    <tr>\n",
       "      <th>4173</th>\n",
       "      <td>M</td>\n",
       "      <td>0.590</td>\n",
       "      <td>0.440</td>\n",
       "      <td>0.135</td>\n",
       "      <td>0.9660</td>\n",
       "      <td>0.4390</td>\n",
       "      <td>0.2145</td>\n",
       "      <td>0.2605</td>\n",
       "      <td>10</td>\n",
       "    </tr>\n",
       "    <tr>\n",
       "      <th>4174</th>\n",
       "      <td>M</td>\n",
       "      <td>0.600</td>\n",
       "      <td>0.475</td>\n",
       "      <td>0.205</td>\n",
       "      <td>1.1760</td>\n",
       "      <td>0.5255</td>\n",
       "      <td>0.2875</td>\n",
       "      <td>0.3080</td>\n",
       "      <td>9</td>\n",
       "    </tr>\n",
       "    <tr>\n",
       "      <th>4175</th>\n",
       "      <td>F</td>\n",
       "      <td>0.625</td>\n",
       "      <td>0.485</td>\n",
       "      <td>0.150</td>\n",
       "      <td>1.0945</td>\n",
       "      <td>0.5310</td>\n",
       "      <td>0.2610</td>\n",
       "      <td>0.2960</td>\n",
       "      <td>10</td>\n",
       "    </tr>\n",
       "    <tr>\n",
       "      <th>4176</th>\n",
       "      <td>M</td>\n",
       "      <td>0.710</td>\n",
       "      <td>0.555</td>\n",
       "      <td>0.195</td>\n",
       "      <td>1.9485</td>\n",
       "      <td>0.9455</td>\n",
       "      <td>0.3765</td>\n",
       "      <td>0.4950</td>\n",
       "      <td>12</td>\n",
       "    </tr>\n",
       "  </tbody>\n",
       "</table>\n",
       "<p>4177 rows × 9 columns</p>\n",
       "</div>"
      ],
      "text/plain": [
       "     Sex  Length  Diameter  Height  Whole weight  Shucked weight  \\\n",
       "0      M   0.455     0.365   0.095        0.5140          0.2245   \n",
       "1      M   0.350     0.265   0.090        0.2255          0.0995   \n",
       "2      F   0.530     0.420   0.135        0.6770          0.2565   \n",
       "3      M   0.440     0.365   0.125        0.5160          0.2155   \n",
       "4      I   0.330     0.255   0.080        0.2050          0.0895   \n",
       "...   ..     ...       ...     ...           ...             ...   \n",
       "4172   F   0.565     0.450   0.165        0.8870          0.3700   \n",
       "4173   M   0.590     0.440   0.135        0.9660          0.4390   \n",
       "4174   M   0.600     0.475   0.205        1.1760          0.5255   \n",
       "4175   F   0.625     0.485   0.150        1.0945          0.5310   \n",
       "4176   M   0.710     0.555   0.195        1.9485          0.9455   \n",
       "\n",
       "      Viscera weight  Shell weight  Rings  \n",
       "0             0.1010        0.1500     15  \n",
       "1             0.0485        0.0700      7  \n",
       "2             0.1415        0.2100      9  \n",
       "3             0.1140        0.1550     10  \n",
       "4             0.0395        0.0550      7  \n",
       "...              ...           ...    ...  \n",
       "4172          0.2390        0.2490     11  \n",
       "4173          0.2145        0.2605     10  \n",
       "4174          0.2875        0.3080      9  \n",
       "4175          0.2610        0.2960     10  \n",
       "4176          0.3765        0.4950     12  \n",
       "\n",
       "[4177 rows x 9 columns]"
      ]
     },
     "execution_count": 233,
     "metadata": {},
     "output_type": "execute_result"
    }
   ],
   "source": [
    "# abalone.csv\n",
    "abalone_df = pd.read_csv('abalone.data',header=None, names=['Sex',\n",
    "                                                            'Length',\n",
    "                                                            'Diameter',\n",
    "                                                            'Height',\n",
    "                                                            'Whole weight',\n",
    "                                                            'Shucked weight',\n",
    "                                                            'Viscera weight',\n",
    "                                                            'Shell weight',\n",
    "                                                            'Rings',])\n",
    "abalone_df"
   ]
  },
  {
   "cell_type": "markdown",
   "id": "763b6a39",
   "metadata": {},
   "source": [
    "## 2. Preprocess your dataset. Indicate which steps worked and which didn’t. Include your thoughts on why certain steps worked and certain steps didn’t. "
   ]
  },
  {
   "cell_type": "markdown",
   "id": "ad11a53d",
   "metadata": {},
   "source": [
    "Here is a recap of various pre-processing we have done over the last month:\n",
    "* NaN handling (columns vs. rows, fillna vs. dropna, imputation)\n",
    "* data type handling\n",
    "* Imbalanced Learning (stratified sampling, oversampling, undersampling)\n",
    "* outlier detection and/or removal\n",
    "* standardizing data (regularization, normalizing, scaling)\n",
    "* feature engineering (categorical vs. numerical vs. strings, binary vs. one-hot, average vs. datetime, extraction vs. tf/idf)\n",
    "* feature selection (redundant, correlated, dimensionality reduction)"
   ]
  },
  {
   "cell_type": "markdown",
   "id": "307a3b30",
   "metadata": {},
   "source": [
    "This dataset comes with some pre-processing already done. There are no NaNs, datatypes are numerical (except for sex), and data has been scaled. I will verify these points:"
   ]
  },
  {
   "cell_type": "code",
   "execution_count": 234,
   "id": "8fabc0d4",
   "metadata": {
    "scrolled": true
   },
   "outputs": [
    {
     "name": "stdout",
     "output_type": "stream",
     "text": [
      "Data variance: \n",
      "Length             0.014422\n",
      "Diameter           0.009849\n",
      "Height             0.001750\n",
      "Whole weight       0.240481\n",
      "Shucked weight     0.049268\n",
      "Viscera weight     0.012015\n",
      "Shell weight       0.019377\n",
      "Rings             10.395266\n",
      "dtype: float64\n",
      " \n",
      "Data NaNs: \n",
      "Sex               0\n",
      "Length            0\n",
      "Diameter          0\n",
      "Height            0\n",
      "Whole weight      0\n",
      "Shucked weight    0\n",
      "Viscera weight    0\n",
      "Shell weight      0\n",
      "Rings             0\n",
      "dtype: int64\n",
      " \n",
      "Data Types: \n",
      "Sex                object\n",
      "Length            float64\n",
      "Diameter          float64\n",
      "Height            float64\n",
      "Whole weight      float64\n",
      "Shucked weight    float64\n",
      "Viscera weight    float64\n",
      "Shell weight      float64\n",
      "Rings               int64\n",
      "dtype: object\n"
     ]
    }
   ],
   "source": [
    "# Verifying documentation-asserted pre-processing:\n",
    "print('Data variance: ')\n",
    "print(abalone_df.var(numeric_only=True))\n",
    "print(' ')\n",
    "print(\"Data NaNs: \")\n",
    "print(abalone_df.isnull().sum().sort_values())\n",
    "print(' ')\n",
    "print('Data Types: ')\n",
    "print(abalone_df.dtypes)"
   ]
  },
  {
   "cell_type": "markdown",
   "id": "78025444",
   "metadata": {},
   "source": [
    "I first want to create a new column for age, as it is our output variable. Per the dataset documentation, abalone age in years is equal to Rings + 1.5. Then I will factorize the sex column. After that, I will check a heatmap to visualize feature correlation. Then I want to check for outliers with a quick box plot; I can think of scenarious where outliers could be present (an abalone that lived for many years with its length constrained because it was tangled in a plastic net or something). After I scrub outliers, I will perform SMOGN, synthetic minority oversampling for Gaussian noise. Then I will perform a statistical feature selection."
   ]
  },
  {
   "cell_type": "markdown",
   "id": "88d9be9b",
   "metadata": {},
   "source": [
    "### Feature engineering:"
   ]
  },
  {
   "cell_type": "code",
   "execution_count": 235,
   "id": "16412532",
   "metadata": {},
   "outputs": [
    {
     "data": {
      "text/html": [
       "<div>\n",
       "<style scoped>\n",
       "    .dataframe tbody tr th:only-of-type {\n",
       "        vertical-align: middle;\n",
       "    }\n",
       "\n",
       "    .dataframe tbody tr th {\n",
       "        vertical-align: top;\n",
       "    }\n",
       "\n",
       "    .dataframe thead th {\n",
       "        text-align: right;\n",
       "    }\n",
       "</style>\n",
       "<table border=\"1\" class=\"dataframe\">\n",
       "  <thead>\n",
       "    <tr style=\"text-align: right;\">\n",
       "      <th></th>\n",
       "      <th>Sex</th>\n",
       "      <th>Length</th>\n",
       "      <th>Diameter</th>\n",
       "      <th>Height</th>\n",
       "      <th>Whole weight</th>\n",
       "      <th>Shucked weight</th>\n",
       "      <th>Viscera weight</th>\n",
       "      <th>Shell weight</th>\n",
       "      <th>Age in years</th>\n",
       "    </tr>\n",
       "  </thead>\n",
       "  <tbody>\n",
       "    <tr>\n",
       "      <th>0</th>\n",
       "      <td>M</td>\n",
       "      <td>0.455</td>\n",
       "      <td>0.365</td>\n",
       "      <td>0.095</td>\n",
       "      <td>0.5140</td>\n",
       "      <td>0.2245</td>\n",
       "      <td>0.1010</td>\n",
       "      <td>0.15</td>\n",
       "      <td>16.5</td>\n",
       "    </tr>\n",
       "    <tr>\n",
       "      <th>1</th>\n",
       "      <td>M</td>\n",
       "      <td>0.350</td>\n",
       "      <td>0.265</td>\n",
       "      <td>0.090</td>\n",
       "      <td>0.2255</td>\n",
       "      <td>0.0995</td>\n",
       "      <td>0.0485</td>\n",
       "      <td>0.07</td>\n",
       "      <td>8.5</td>\n",
       "    </tr>\n",
       "  </tbody>\n",
       "</table>\n",
       "</div>"
      ],
      "text/plain": [
       "  Sex  Length  Diameter  Height  Whole weight  Shucked weight  Viscera weight  \\\n",
       "0   M   0.455     0.365   0.095        0.5140          0.2245          0.1010   \n",
       "1   M   0.350     0.265   0.090        0.2255          0.0995          0.0485   \n",
       "\n",
       "   Shell weight  Age in years  \n",
       "0          0.15          16.5  \n",
       "1          0.07           8.5  "
      ]
     },
     "execution_count": 235,
     "metadata": {},
     "output_type": "execute_result"
    }
   ],
   "source": [
    "# Age column creation and replacement of Rings column:\n",
    "abalone_df['Age in years'] = abalone_df['Rings']+1.5\n",
    "abalone = abalone_df.drop('Rings', axis=1)\n",
    "abalone.head(2)"
   ]
  },
  {
   "cell_type": "code",
   "execution_count": 236,
   "id": "51be640c",
   "metadata": {},
   "outputs": [
    {
     "name": "stdout",
     "output_type": "stream",
     "text": [
      "Sex  Code for Sex\n",
      "M    1               1528\n",
      "I    3               1342\n",
      "F    2               1307\n",
      "dtype: int64\n"
     ]
    }
   ],
   "source": [
    "# Factorizing the sex column and preserving a key of sex codes for reference:\n",
    "column = ['Sex']\n",
    "for i in column:\n",
    "    abalone[\"Coded \"+i] = pd.factorize(abalone[i])[0]+1\n",
    "    code_key = pd.DataFrame(abalone[i])\n",
    "    code_key[\"Code for \"+i]=abalone[\"Coded \"+i]\n",
    "    abalone = abalone.drop(i,axis=1)\n",
    "    print(code_key[[i,\"Code for \"+i]].value_counts())"
   ]
  },
  {
   "cell_type": "code",
   "execution_count": 237,
   "id": "4f35bab7",
   "metadata": {},
   "outputs": [
    {
     "data": {
      "text/html": [
       "<div>\n",
       "<style scoped>\n",
       "    .dataframe tbody tr th:only-of-type {\n",
       "        vertical-align: middle;\n",
       "    }\n",
       "\n",
       "    .dataframe tbody tr th {\n",
       "        vertical-align: top;\n",
       "    }\n",
       "\n",
       "    .dataframe thead th {\n",
       "        text-align: right;\n",
       "    }\n",
       "</style>\n",
       "<table border=\"1\" class=\"dataframe\">\n",
       "  <thead>\n",
       "    <tr style=\"text-align: right;\">\n",
       "      <th></th>\n",
       "      <th>Length</th>\n",
       "      <th>Diameter</th>\n",
       "      <th>Height</th>\n",
       "      <th>Whole weight</th>\n",
       "      <th>Shucked weight</th>\n",
       "      <th>Viscera weight</th>\n",
       "      <th>Shell weight</th>\n",
       "      <th>Age in years</th>\n",
       "      <th>Coded Sex</th>\n",
       "    </tr>\n",
       "  </thead>\n",
       "  <tbody>\n",
       "    <tr>\n",
       "      <th>0</th>\n",
       "      <td>0.455</td>\n",
       "      <td>0.365</td>\n",
       "      <td>0.095</td>\n",
       "      <td>0.5140</td>\n",
       "      <td>0.2245</td>\n",
       "      <td>0.1010</td>\n",
       "      <td>0.15</td>\n",
       "      <td>16.5</td>\n",
       "      <td>1</td>\n",
       "    </tr>\n",
       "    <tr>\n",
       "      <th>1</th>\n",
       "      <td>0.350</td>\n",
       "      <td>0.265</td>\n",
       "      <td>0.090</td>\n",
       "      <td>0.2255</td>\n",
       "      <td>0.0995</td>\n",
       "      <td>0.0485</td>\n",
       "      <td>0.07</td>\n",
       "      <td>8.5</td>\n",
       "      <td>1</td>\n",
       "    </tr>\n",
       "  </tbody>\n",
       "</table>\n",
       "</div>"
      ],
      "text/plain": [
       "   Length  Diameter  Height  Whole weight  Shucked weight  Viscera weight  \\\n",
       "0   0.455     0.365   0.095        0.5140          0.2245          0.1010   \n",
       "1   0.350     0.265   0.090        0.2255          0.0995          0.0485   \n",
       "\n",
       "   Shell weight  Age in years  Coded Sex  \n",
       "0          0.15          16.5          1  \n",
       "1          0.07           8.5          1  "
      ]
     },
     "execution_count": 237,
     "metadata": {},
     "output_type": "execute_result"
    }
   ],
   "source": [
    "abalone.head(2)"
   ]
  },
  {
   "cell_type": "markdown",
   "id": "0b99e01e",
   "metadata": {},
   "source": [
    "### Heatmap to show correlation (and multicollinearity):"
   ]
  },
  {
   "cell_type": "code",
   "execution_count": 239,
   "id": "fcdee1d1",
   "metadata": {},
   "outputs": [
    {
     "data": {
      "image/png": "[encoded data removed]",
      "text/plain": [
       "<Figure size 864x576 with 1 Axes>"
      ]
     },
     "metadata": {},
     "output_type": "display_data"
    }
   ],
   "source": [
    "# plotting the heatmap\n",
    "correlation = abalone.corr()\n",
    "g = sns.heatmap(correlation, annot=True, linewidth=0, cmap=\"Blues\",cbar=False)\n",
    "g.set_xticklabels(g.get_xticklabels(), rotation = 0, fontsize = 12)\n",
    "g.set_title('Feature Correlation of Abalone Data',size=14, weight='bold')\n",
    "sns.set(rc={'figure.figsize':(12,8)})"
   ]
  },
  {
   "cell_type": "markdown",
   "id": "91ef3d6e",
   "metadata": {},
   "source": [
    "Obviously the many weight columns have strong multicolinnearity. I will have to cull those down. I will run a feature importance module to determine which should go."
   ]
  },
  {
   "cell_type": "markdown",
   "id": "dbb25e91",
   "metadata": {},
   "source": [
    "### Box plots to show outliers:"
   ]
  },
  {
   "cell_type": "code",
   "execution_count": 240,
   "id": "17d5b938",
   "metadata": {},
   "outputs": [
    {
     "data": {
      "image/png": "[encoded data removed]",
      "text/plain": [
       "<Figure size 864x576 with 1 Axes>"
      ]
     },
     "metadata": {},
     "output_type": "display_data"
    }
   ],
   "source": [
    "plt.boxplot([abalone['Shell weight'],abalone['Viscera weight'],abalone['Shucked weight'],abalone['Whole weight'],abalone['Height'],abalone['Diameter'],abalone['Length']],labels=['Shell weight', 'Viscera weight','Shucked weight', 'Whole weight', 'Height', 'Diameter', 'Length'])\n",
    "plt.show()"
   ]
  },
  {
   "cell_type": "code",
   "execution_count": 241,
   "id": "cb97885c",
   "metadata": {},
   "outputs": [
    {
     "data": {
      "image/png": "[encoded data removed]",
      "text/plain": [
       "<Figure size 864x576 with 1 Axes>"
      ]
     },
     "metadata": {},
     "output_type": "display_data"
    }
   ],
   "source": [
    "plt.boxplot(abalone['Age in years'],labels= ['Age in years'])\n",
    "plt.show()"
   ]
  },
  {
   "cell_type": "markdown",
   "id": "4850fc31",
   "metadata": {},
   "source": [
    "In this visual, we can see that we have outliers in every column. I will try IsolationForest to identify and remove them. I will need to split into test/training sets to move further."
   ]
  },
  {
   "cell_type": "markdown",
   "id": "b631e003",
   "metadata": {},
   "source": [
    "### Random Forest Feature Importance:"
   ]
  },
  {
   "cell_type": "code",
   "execution_count": 242,
   "id": "a0374d98",
   "metadata": {},
   "outputs": [
    {
     "name": "stdout",
     "output_type": "stream",
     "text": [
      "(2798, 8) (2798,)\n"
     ]
    }
   ],
   "source": [
    "# prepare my X and y:\n",
    "X = abalone.drop('Age in years',axis=1).values\n",
    "y = abalone['Age in years'].values\n",
    "\n",
    "# Split into training and test sets:\n",
    "X_train, X_test, y_train, y_test = train_test_split(X, y, test_size = 0.33, random_state=42)\n",
    "# Examine shape of the training dataset:\n",
    "print(X_train.shape, y_train.shape)"
   ]
  },
  {
   "cell_type": "code",
   "execution_count": 243,
   "id": "509f23f9",
   "metadata": {},
   "outputs": [
    {
     "name": "stdout",
     "output_type": "stream",
     "text": [
      "Feature: 0, Score: 0.05021\n",
      "Feature: 1, Score: 0.05558\n",
      "Feature: 2, Score: 0.05049\n",
      "Feature: 3, Score: 0.08459\n",
      "Feature: 4, Score: 0.16407\n",
      "Feature: 5, Score: 0.07428\n",
      "Feature: 6, Score: 0.49335\n",
      "Feature: 7, Score: 0.02745\n"
     ]
    },
    {
     "data": {
      "image/png": "[encoded data removed]",
      "text/plain": [
       "<Figure size 864x576 with 1 Axes>"
      ]
     },
     "metadata": {},
     "output_type": "display_data"
    }
   ],
   "source": [
    "# instantiate my classifier and fit it to my dataset:\n",
    "rf = RandomForestRegressor()\n",
    "rf.fit(X,y)\n",
    "\n",
    "# define the classifier's feature importance property:\n",
    "importance= rf.feature_importances_\n",
    "\n",
    "# Report feature importance\n",
    "for i,v in enumerate(importance):\n",
    "    print('Feature: %0d, Score: %.5f' % (i,v))\n",
    "\n",
    "# plot the importance for a quick visual:\n",
    "plt.bar([x for x in range(len(importance))], importance)\n",
    "plt.show()"
   ]
  },
  {
   "cell_type": "markdown",
   "id": "8a4ea264",
   "metadata": {},
   "source": [
    "Shell weight is the clear winner in the survival game between the weight features. I will drop the others."
   ]
  },
  {
   "cell_type": "markdown",
   "id": "1372755d",
   "metadata": {},
   "source": [
    "### Dropping features with strong multicollinearity:"
   ]
  },
  {
   "cell_type": "code",
   "execution_count": 244,
   "id": "53cdb172",
   "metadata": {},
   "outputs": [
    {
     "data": {
      "text/html": [
       "<div>\n",
       "<style scoped>\n",
       "    .dataframe tbody tr th:only-of-type {\n",
       "        vertical-align: middle;\n",
       "    }\n",
       "\n",
       "    .dataframe tbody tr th {\n",
       "        vertical-align: top;\n",
       "    }\n",
       "\n",
       "    .dataframe thead th {\n",
       "        text-align: right;\n",
       "    }\n",
       "</style>\n",
       "<table border=\"1\" class=\"dataframe\">\n",
       "  <thead>\n",
       "    <tr style=\"text-align: right;\">\n",
       "      <th></th>\n",
       "      <th>Length</th>\n",
       "      <th>Diameter</th>\n",
       "      <th>Height</th>\n",
       "      <th>Shell weight</th>\n",
       "      <th>Age in years</th>\n",
       "      <th>Coded Sex</th>\n",
       "    </tr>\n",
       "  </thead>\n",
       "  <tbody>\n",
       "    <tr>\n",
       "      <th>0</th>\n",
       "      <td>0.455</td>\n",
       "      <td>0.365</td>\n",
       "      <td>0.095</td>\n",
       "      <td>0.1500</td>\n",
       "      <td>16.5</td>\n",
       "      <td>1</td>\n",
       "    </tr>\n",
       "    <tr>\n",
       "      <th>1</th>\n",
       "      <td>0.350</td>\n",
       "      <td>0.265</td>\n",
       "      <td>0.090</td>\n",
       "      <td>0.0700</td>\n",
       "      <td>8.5</td>\n",
       "      <td>1</td>\n",
       "    </tr>\n",
       "    <tr>\n",
       "      <th>2</th>\n",
       "      <td>0.530</td>\n",
       "      <td>0.420</td>\n",
       "      <td>0.135</td>\n",
       "      <td>0.2100</td>\n",
       "      <td>10.5</td>\n",
       "      <td>2</td>\n",
       "    </tr>\n",
       "    <tr>\n",
       "      <th>3</th>\n",
       "      <td>0.440</td>\n",
       "      <td>0.365</td>\n",
       "      <td>0.125</td>\n",
       "      <td>0.1550</td>\n",
       "      <td>11.5</td>\n",
       "      <td>1</td>\n",
       "    </tr>\n",
       "    <tr>\n",
       "      <th>4</th>\n",
       "      <td>0.330</td>\n",
       "      <td>0.255</td>\n",
       "      <td>0.080</td>\n",
       "      <td>0.0550</td>\n",
       "      <td>8.5</td>\n",
       "      <td>3</td>\n",
       "    </tr>\n",
       "    <tr>\n",
       "      <th>...</th>\n",
       "      <td>...</td>\n",
       "      <td>...</td>\n",
       "      <td>...</td>\n",
       "      <td>...</td>\n",
       "      <td>...</td>\n",
       "      <td>...</td>\n",
       "    </tr>\n",
       "    <tr>\n",
       "      <th>4172</th>\n",
       "      <td>0.565</td>\n",
       "      <td>0.450</td>\n",
       "      <td>0.165</td>\n",
       "      <td>0.2490</td>\n",
       "      <td>12.5</td>\n",
       "      <td>2</td>\n",
       "    </tr>\n",
       "    <tr>\n",
       "      <th>4173</th>\n",
       "      <td>0.590</td>\n",
       "      <td>0.440</td>\n",
       "      <td>0.135</td>\n",
       "      <td>0.2605</td>\n",
       "      <td>11.5</td>\n",
       "      <td>1</td>\n",
       "    </tr>\n",
       "    <tr>\n",
       "      <th>4174</th>\n",
       "      <td>0.600</td>\n",
       "      <td>0.475</td>\n",
       "      <td>0.205</td>\n",
       "      <td>0.3080</td>\n",
       "      <td>10.5</td>\n",
       "      <td>1</td>\n",
       "    </tr>\n",
       "    <tr>\n",
       "      <th>4175</th>\n",
       "      <td>0.625</td>\n",
       "      <td>0.485</td>\n",
       "      <td>0.150</td>\n",
       "      <td>0.2960</td>\n",
       "      <td>11.5</td>\n",
       "      <td>2</td>\n",
       "    </tr>\n",
       "    <tr>\n",
       "      <th>4176</th>\n",
       "      <td>0.710</td>\n",
       "      <td>0.555</td>\n",
       "      <td>0.195</td>\n",
       "      <td>0.4950</td>\n",
       "      <td>13.5</td>\n",
       "      <td>1</td>\n",
       "    </tr>\n",
       "  </tbody>\n",
       "</table>\n",
       "<p>4177 rows × 6 columns</p>\n",
       "</div>"
      ],
      "text/plain": [
       "      Length  Diameter  Height  Shell weight  Age in years  Coded Sex\n",
       "0      0.455     0.365   0.095        0.1500          16.5          1\n",
       "1      0.350     0.265   0.090        0.0700           8.5          1\n",
       "2      0.530     0.420   0.135        0.2100          10.5          2\n",
       "3      0.440     0.365   0.125        0.1550          11.5          1\n",
       "4      0.330     0.255   0.080        0.0550           8.5          3\n",
       "...      ...       ...     ...           ...           ...        ...\n",
       "4172   0.565     0.450   0.165        0.2490          12.5          2\n",
       "4173   0.590     0.440   0.135        0.2605          11.5          1\n",
       "4174   0.600     0.475   0.205        0.3080          10.5          1\n",
       "4175   0.625     0.485   0.150        0.2960          11.5          2\n",
       "4176   0.710     0.555   0.195        0.4950          13.5          1\n",
       "\n",
       "[4177 rows x 6 columns]"
      ]
     },
     "execution_count": 244,
     "metadata": {},
     "output_type": "execute_result"
    }
   ],
   "source": [
    "abalone6 = abalone.drop(['Whole weight', 'Viscera weight', 'Shucked weight'],axis=1)\n",
    "abalone6"
   ]
  },
  {
   "cell_type": "code",
   "execution_count": 245,
   "id": "df3fa819",
   "metadata": {},
   "outputs": [
    {
     "name": "stdout",
     "output_type": "stream",
     "text": [
      "MSE = 0.6506197244379985\n",
      "R^2 value = 0.9357997894422009\n"
     ]
    }
   ],
   "source": [
    "# Since I ran the regresor for the property, I might as well view the model\n",
    "# perfomance:\n",
    "y_pred = rf.predict(X_test)\n",
    "\n",
    "mse = mean_squared_error(y_test, y_pred)\n",
    "rsq = r2_score(y_test, y_pred)\n",
    "\n",
    "print(\"MSE = \"+str(mse))\n",
    "print(\"R^2 value = \"+str(rsq))"
   ]
  },
  {
   "cell_type": "markdown",
   "id": "9d6e46c4",
   "metadata": {},
   "source": [
    "### Identifying and removing outliers:"
   ]
  },
  {
   "cell_type": "code",
   "execution_count": 246,
   "id": "db01d3c6",
   "metadata": {},
   "outputs": [
    {
     "name": "stdout",
     "output_type": "stream",
     "text": [
      "(4177, 5) (4177,)\n"
     ]
    }
   ],
   "source": [
    "# prepare my X and y:\n",
    "X6 = abalone6.drop('Age in years',axis=1).values\n",
    "y6 = abalone6['Age in years'].values\n",
    "# Examine shape:\n",
    "print(X6.shape, y6.shape)"
   ]
  },
  {
   "cell_type": "code",
   "execution_count": 247,
   "id": "60de445b",
   "metadata": {},
   "outputs": [
    {
     "name": "stdout",
     "output_type": "stream",
     "text": [
      "(3759, 5) (3759,)\n"
     ]
    }
   ],
   "source": [
    "# instantiate my Isolation Forest:\n",
    "iso = IsolationForest(contamination=0.1)\n",
    "# identify outliers with module:\n",
    "y_opred =iso.fit_predict(X6)\n",
    "# slice for rows that don't have outliers:\n",
    "mask = y_opred != -1\n",
    "Xo, yo = X6[mask, :], y6[mask]\n",
    "# Examine shape of scrubbed training dataset:\n",
    "print(Xo.shape, yo.shape)"
   ]
  },
  {
   "cell_type": "code",
   "execution_count": 248,
   "id": "0840ef91",
   "metadata": {},
   "outputs": [
    {
     "name": "stdout",
     "output_type": "stream",
     "text": [
      "MSE = 5.864986985853703\n",
      "R^2 value = 0.37098033834327593\n"
     ]
    }
   ],
   "source": [
    "# The isolation forest identified and removed 418 rows or around 10%\n",
    "# of the total data. That seems reasonable. Let's see how it affected \n",
    "# regression performance:\n",
    "\n",
    "# Split the modified dataset:\n",
    "X_train6, X_test6, y_train6, y_test6 = train_test_split(Xo, yo, test_size = 0.33, random_state=42)\n",
    "\n",
    "# instantiate the classifier and fit it to my dataset:\n",
    "rfo = RandomForestRegressor()\n",
    "rfo.fit(X_train6, y_train6)\n",
    "\n",
    "y_pred_rfo = rfo.predict(X_test6) \n",
    "\n",
    "# Report:\n",
    "mseo = mean_squared_error(y_test6, y_pred_rfo)\n",
    "rsqo = r2_score(y_test6, y_pred_rfo)\n",
    "\n",
    "print(\"MSE = \"+str(mseo))\n",
    "print(\"R^2 value = \"+str(rsqo))"
   ]
  },
  {
   "cell_type": "markdown",
   "id": "6a4b6554",
   "metadata": {},
   "source": [
    "That actually tanked performance. I will move forward with these two datasets side-by-side for learning purposes. Next I will use a form of oversampling specifically for regression: SMOGN. \n",
    "##### Edit: SMOGN did not work; a problem with the module code. I will move on without SMOGNing."
   ]
  },
  {
   "cell_type": "code",
   "execution_count": 251,
   "id": "bc9e79d1",
   "metadata": {},
   "outputs": [
    {
     "data": {
      "text/html": [
       "<div>\n",
       "<style scoped>\n",
       "    .dataframe tbody tr th:only-of-type {\n",
       "        vertical-align: middle;\n",
       "    }\n",
       "\n",
       "    .dataframe tbody tr th {\n",
       "        vertical-align: top;\n",
       "    }\n",
       "\n",
       "    .dataframe thead th {\n",
       "        text-align: right;\n",
       "    }\n",
       "</style>\n",
       "<table border=\"1\" class=\"dataframe\">\n",
       "  <thead>\n",
       "    <tr style=\"text-align: right;\">\n",
       "      <th></th>\n",
       "      <th>Length</th>\n",
       "      <th>Diameter</th>\n",
       "      <th>Height</th>\n",
       "      <th>Shell weight</th>\n",
       "      <th>Coded Sex</th>\n",
       "      <th>Age in years</th>\n",
       "    </tr>\n",
       "  </thead>\n",
       "  <tbody>\n",
       "    <tr>\n",
       "      <th>0</th>\n",
       "      <td>0.580</td>\n",
       "      <td>0.445</td>\n",
       "      <td>0.135</td>\n",
       "      <td>0.2200</td>\n",
       "      <td>1.0</td>\n",
       "      <td>10.5</td>\n",
       "    </tr>\n",
       "    <tr>\n",
       "      <th>1</th>\n",
       "      <td>0.650</td>\n",
       "      <td>0.515</td>\n",
       "      <td>0.160</td>\n",
       "      <td>0.3300</td>\n",
       "      <td>3.0</td>\n",
       "      <td>18.5</td>\n",
       "    </tr>\n",
       "    <tr>\n",
       "      <th>2</th>\n",
       "      <td>0.670</td>\n",
       "      <td>0.500</td>\n",
       "      <td>0.190</td>\n",
       "      <td>0.4150</td>\n",
       "      <td>1.0</td>\n",
       "      <td>11.5</td>\n",
       "    </tr>\n",
       "    <tr>\n",
       "      <th>3</th>\n",
       "      <td>0.420</td>\n",
       "      <td>0.315</td>\n",
       "      <td>0.110</td>\n",
       "      <td>0.1015</td>\n",
       "      <td>3.0</td>\n",
       "      <td>9.5</td>\n",
       "    </tr>\n",
       "    <tr>\n",
       "      <th>4</th>\n",
       "      <td>0.500</td>\n",
       "      <td>0.375</td>\n",
       "      <td>0.130</td>\n",
       "      <td>0.2200</td>\n",
       "      <td>1.0</td>\n",
       "      <td>15.5</td>\n",
       "    </tr>\n",
       "    <tr>\n",
       "      <th>...</th>\n",
       "      <td>...</td>\n",
       "      <td>...</td>\n",
       "      <td>...</td>\n",
       "      <td>...</td>\n",
       "      <td>...</td>\n",
       "      <td>...</td>\n",
       "    </tr>\n",
       "    <tr>\n",
       "      <th>2513</th>\n",
       "      <td>0.530</td>\n",
       "      <td>0.415</td>\n",
       "      <td>0.110</td>\n",
       "      <td>0.1890</td>\n",
       "      <td>3.0</td>\n",
       "      <td>10.5</td>\n",
       "    </tr>\n",
       "    <tr>\n",
       "      <th>2514</th>\n",
       "      <td>0.575</td>\n",
       "      <td>0.465</td>\n",
       "      <td>0.150</td>\n",
       "      <td>0.2380</td>\n",
       "      <td>1.0</td>\n",
       "      <td>10.5</td>\n",
       "    </tr>\n",
       "    <tr>\n",
       "      <th>2515</th>\n",
       "      <td>0.590</td>\n",
       "      <td>0.455</td>\n",
       "      <td>0.145</td>\n",
       "      <td>0.2500</td>\n",
       "      <td>2.0</td>\n",
       "      <td>9.5</td>\n",
       "    </tr>\n",
       "    <tr>\n",
       "      <th>2516</th>\n",
       "      <td>0.575</td>\n",
       "      <td>0.470</td>\n",
       "      <td>0.165</td>\n",
       "      <td>0.3500</td>\n",
       "      <td>1.0</td>\n",
       "      <td>17.5</td>\n",
       "    </tr>\n",
       "    <tr>\n",
       "      <th>2517</th>\n",
       "      <td>0.515</td>\n",
       "      <td>0.400</td>\n",
       "      <td>0.135</td>\n",
       "      <td>0.1855</td>\n",
       "      <td>3.0</td>\n",
       "      <td>10.5</td>\n",
       "    </tr>\n",
       "  </tbody>\n",
       "</table>\n",
       "<p>2518 rows × 6 columns</p>\n",
       "</div>"
      ],
      "text/plain": [
       "      Length  Diameter  Height  Shell weight  Coded Sex  Age in years\n",
       "0      0.580     0.445   0.135        0.2200        1.0          10.5\n",
       "1      0.650     0.515   0.160        0.3300        3.0          18.5\n",
       "2      0.670     0.500   0.190        0.4150        1.0          11.5\n",
       "3      0.420     0.315   0.110        0.1015        3.0           9.5\n",
       "4      0.500     0.375   0.130        0.2200        1.0          15.5\n",
       "...      ...       ...     ...           ...        ...           ...\n",
       "2513   0.530     0.415   0.110        0.1890        3.0          10.5\n",
       "2514   0.575     0.465   0.150        0.2380        1.0          10.5\n",
       "2515   0.590     0.455   0.145        0.2500        2.0           9.5\n",
       "2516   0.575     0.470   0.165        0.3500        1.0          17.5\n",
       "2517   0.515     0.400   0.135        0.1855        3.0          10.5\n",
       "\n",
       "[2518 rows x 6 columns]"
      ]
     },
     "execution_count": 251,
     "metadata": {},
     "output_type": "execute_result"
    }
   ],
   "source": [
    "#Reforming a dataframe from the data with outliers removed:\n",
    "abalone_tightened = pd.DataFrame(X_train6)\n",
    "abalone_t = pd.concat([abalone_tightened, pd.DataFrame(y_train6)], axis=1)\n",
    "abalone_t.columns = ['Length','Diameter','Height', 'Shell weight', 'Coded Sex', 'Age in years']\n",
    "abalone_t"
   ]
  },
  {
   "cell_type": "code",
   "execution_count": 252,
   "id": "63cd2f94",
   "metadata": {},
   "outputs": [
    {
     "name": "stdout",
     "output_type": "stream",
     "text": [
      "(1687, 5) (1687,)\n"
     ]
    }
   ],
   "source": [
    "# Split my new dataframe into training and test sets:\n",
    "# prepare my X and y:\n",
    "X_t = abalone_t.drop('Age in years',axis=1).values\n",
    "y_t= abalone_t['Age in years'].values\n",
    "\n",
    "# Split into training and test sets:\n",
    "X_train_t, X_test_t, y_train_t, y_test_t = train_test_split(X_t, y_t, test_size = 0.33, random_state=42)\n",
    "# Examine shape of the training dataset:\n",
    "print(X_train_t.shape, y_train_t.shape)"
   ]
  },
  {
   "cell_type": "markdown",
   "id": "ea9537b0",
   "metadata": {},
   "source": [
    "### Statistical Feature Selection:"
   ]
  },
  {
   "cell_type": "code",
   "execution_count": 253,
   "id": "9bec6107",
   "metadata": {},
   "outputs": [
    {
     "name": "stdout",
     "output_type": "stream",
     "text": [
      "(2798, 5) (2798,)\n"
     ]
    }
   ],
   "source": [
    "# Split my whole dataset into training and test sets:\n",
    "# prepare my X and y:\n",
    "X_w = abalone6.drop('Age in years',axis=1).values\n",
    "y_w= abalone6['Age in years'].values\n",
    "\n",
    "# Split into training and test sets:\n",
    "X_train_w, X_test_w, y_train_w, y_test_w = train_test_split(X_w, y_w, test_size = 0.33, random_state=42)\n",
    "# Examine shape of the training dataset:\n",
    "print(X_train_w.shape, y_train_w.shape)"
   ]
  },
  {
   "cell_type": "code",
   "execution_count": 256,
   "id": "6f347fc3",
   "metadata": {},
   "outputs": [],
   "source": [
    "# For Whole Dataset:\n",
    "#Instantiate my feature selector:\n",
    "fsw = SelectKBest(score_func=f_regression, k=4)\n",
    "# Fit training data\n",
    "fsw.fit(X_train_w,y_train_w)\n",
    "# transform train input data\n",
    "X_train_fsw = fsw.transform(X_train_w)\n",
    "#transform test input data\n",
    "X_test_fsw = fsw.transform(X_test_w)"
   ]
  },
  {
   "cell_type": "code",
   "execution_count": 257,
   "id": "448a0a1a",
   "metadata": {},
   "outputs": [
    {
     "name": "stdout",
     "output_type": "stream",
     "text": [
      "Feature 0: 1213.871865\n",
      "Feature 1: 1316.783033\n",
      "Feature 2: 1167.435214\n",
      "Feature 3: 1803.909527\n",
      "Feature 4: 363.896874\n"
     ]
    },
    {
     "data": {
      "image/png": "[encoded data removed]",
      "text/plain": [
       "<Figure size 864x576 with 1 Axes>"
      ]
     },
     "metadata": {},
     "output_type": "display_data"
    }
   ],
   "source": [
    "# what are scores for the features\n",
    "for i in range(len(fsw.scores_)):\n",
    "\tprint('Feature %d: %f' % (i, fsw.scores_[i]))\n",
    "# plot the scores\n",
    "plt.bar([i for i in range(len(fsw.scores_))], fsw.scores_)\n",
    "plt.show()"
   ]
  },
  {
   "cell_type": "markdown",
   "id": "8a7ae708",
   "metadata": {},
   "source": [
    "Ok, I will rerun the selctor, setting k value to 4."
   ]
  },
  {
   "cell_type": "code",
   "execution_count": 260,
   "id": "fa61eaee",
   "metadata": {},
   "outputs": [],
   "source": [
    "# Using statistical feature selection on the dataset with outliers removed:\n",
    "\n",
    "#Instantiate my feature selector:\n",
    "fs = SelectKBest(score_func=f_regression, k=4)\n",
    "# Fit training data\n",
    "fs.fit(X_train_t,y_train_t)\n",
    "# transform train input data\n",
    "X_train_fs = fs.transform(X_train_t)\n",
    "#transform test input data\n",
    "X_test_fs = fs.transform(X_test_t)"
   ]
  },
  {
   "cell_type": "code",
   "execution_count": 261,
   "id": "a6b6a52f",
   "metadata": {},
   "outputs": [
    {
     "name": "stdout",
     "output_type": "stream",
     "text": [
      "Feature 0: 445.195794\n",
      "Feature 1: 509.283024\n",
      "Feature 2: 609.082990\n",
      "Feature 3: 779.580611\n",
      "Feature 4: 222.120039\n"
     ]
    },
    {
     "data": {
      "image/png": "[encoded data removed]",
      "text/plain": [
       "<Figure size 864x576 with 1 Axes>"
      ]
     },
     "metadata": {},
     "output_type": "display_data"
    }
   ],
   "source": [
    "# what are scores for the features\n",
    "for i in range(len(fs.scores_)):\n",
    "\tprint('Feature %d: %f' % (i, fs.scores_[i]))\n",
    "# plot the scores\n",
    "plt.bar([i for i in range(len(fs.scores_))], fs.scores_)\n",
    "plt.show()"
   ]
  },
  {
   "cell_type": "markdown",
   "id": "4a309543",
   "metadata": {},
   "source": [
    "Alright, same thing: k=4."
   ]
  },
  {
   "cell_type": "markdown",
   "id": "278ada31",
   "metadata": {},
   "source": [
    "## 3. Create a decision tree model tuned to the best of your abilities. Explain how you tuned it."
   ]
  },
  {
   "cell_type": "code",
   "execution_count": null,
   "id": "39d61180",
   "metadata": {},
   "outputs": [],
   "source": []
  },
  {
   "cell_type": "code",
   "execution_count": null,
   "id": "ddcae612",
   "metadata": {},
   "outputs": [],
   "source": []
  },
  {
   "cell_type": "markdown",
   "id": "146d2237",
   "metadata": {},
   "source": [
    "## 4. Create a random forest model tuned to the best of your abilities. Explain how you tuned it."
   ]
  },
  {
   "cell_type": "code",
   "execution_count": null,
   "id": "5eb1065b",
   "metadata": {},
   "outputs": [],
   "source": []
  },
  {
   "cell_type": "code",
   "execution_count": null,
   "id": "a17e3de3",
   "metadata": {},
   "outputs": [],
   "source": []
  },
  {
   "cell_type": "markdown",
   "id": "c7d4b0c5",
   "metadata": {},
   "source": [
    "## 5. Create an xgboost model tuned to the best of your abilities. Explain how you tuned it. "
   ]
  },
  {
   "cell_type": "code",
   "execution_count": null,
   "id": "c7a9bbb7",
   "metadata": {},
   "outputs": [],
   "source": []
  },
  {
   "cell_type": "code",
   "execution_count": null,
   "id": "d34ed32f",
   "metadata": {},
   "outputs": [],
   "source": []
  },
  {
   "cell_type": "markdown",
   "id": "6da5e59d",
   "metadata": {},
   "source": [
    "## 7. Which model performed best? What is your performance metric? Why? "
   ]
  },
  {
   "cell_type": "code",
   "execution_count": null,
   "id": "abba6631",
   "metadata": {},
   "outputs": [],
   "source": []
  },
  {
   "cell_type": "code",
   "execution_count": null,
   "id": "b5d94f42",
   "metadata": {},
   "outputs": [],
   "source": []
  },
  {
   "cell_type": "code",
   "execution_count": null,
   "id": "6ddd76af",
   "metadata": {},
   "outputs": [],
   "source": []
  },
  {
   "cell_type": "markdown",
   "id": "76329fed",
   "metadata": {},
   "source": [
    "# DataCamp Completions:"
   ]
  },
  {
   "cell_type": "markdown",
   "id": "0cc1561f",
   "metadata": {},
   "source": []
  },
  {
   "cell_type": "markdown",
   "id": "0a714de5",
   "metadata": {},
   "source": []
  }
 ],
 "metadata": {
  "kernelspec": {
   "display_name": "Python 3 (ipykernel)",
   "language": "python",
   "name": "python3"
  },
  "language_info": {
   "codemirror_mode": {
    "name": "ipython",
    "version": 3
   },
   "file_extension": ".py",
   "mimetype": "text/x-python",
   "name": "python",
   "nbconvert_exporter": "python",
   "pygments_lexer": "ipython3",
   "version": "3.9.7"
  }
 },
 "nbformat": 4,
 "nbformat_minor": 5
}
