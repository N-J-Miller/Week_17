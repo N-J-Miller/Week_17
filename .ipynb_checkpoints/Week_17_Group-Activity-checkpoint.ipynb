{
 "cells": [
  {
   "cell_type": "markdown",
   "id": "9588c7e6",
   "metadata": {},
   "source": [
    "# Week 17 Group Activity"
   ]
  },
  {
   "cell_type": "code",
   "execution_count": 1,
   "id": "33083caa",
   "metadata": {},
   "outputs": [
    {
     "data": {
      "text/html": [
       "<div>\n",
       "<style scoped>\n",
       "    .dataframe tbody tr th:only-of-type {\n",
       "        vertical-align: middle;\n",
       "    }\n",
       "\n",
       "    .dataframe tbody tr th {\n",
       "        vertical-align: top;\n",
       "    }\n",
       "\n",
       "    .dataframe thead th {\n",
       "        text-align: right;\n",
       "    }\n",
       "</style>\n",
       "<table border=\"1\" class=\"dataframe\">\n",
       "  <thead>\n",
       "    <tr style=\"text-align: right;\">\n",
       "      <th></th>\n",
       "      <th>Pregnancies</th>\n",
       "      <th>Glucose</th>\n",
       "      <th>BloodPressure</th>\n",
       "      <th>SkinThickness</th>\n",
       "      <th>Insulin</th>\n",
       "      <th>BMI</th>\n",
       "      <th>DiabetesPedigreeFunction</th>\n",
       "      <th>Age</th>\n",
       "      <th>Outcome</th>\n",
       "    </tr>\n",
       "  </thead>\n",
       "  <tbody>\n",
       "    <tr>\n",
       "      <th>0</th>\n",
       "      <td>6</td>\n",
       "      <td>148</td>\n",
       "      <td>72</td>\n",
       "      <td>35</td>\n",
       "      <td>0</td>\n",
       "      <td>33.6</td>\n",
       "      <td>0.627</td>\n",
       "      <td>50</td>\n",
       "      <td>1</td>\n",
       "    </tr>\n",
       "  </tbody>\n",
       "</table>\n",
       "</div>"
      ],
      "text/plain": [
       "   Pregnancies  Glucose  BloodPressure  SkinThickness  Insulin   BMI  \\\n",
       "0            6      148             72             35        0  33.6   \n",
       "\n",
       "   DiabetesPedigreeFunction  Age  Outcome  \n",
       "0                     0.627   50        1  "
      ]
     },
     "execution_count": 1,
     "metadata": {},
     "output_type": "execute_result"
    }
   ],
   "source": [
    "# Dependencies and modules:\n",
    "\n",
    "import pandas as pd\n",
    "import numpy as np\n",
    "\n",
    "from sklearn.model_selection import train_test_split\n",
    "from sklearn.preprocessing import StandardScaler\n",
    "\n",
    "from imblearn.over_sampling import SMOTE\n",
    "from imblearn.combine import SMOTEENN\n",
    "from imblearn.under_sampling import EditedNearestNeighbours\n",
    "\n",
    "from sklearn.linear_model import LogisticRegression\n",
    "from imblearn.pipeline import Pipeline\n",
    "\n",
    "from sklearn.metrics import classification_report, roc_curve, roc_auc_score\n",
    "\n",
    "import matplotlib.pyplot as plt\n",
    "\n",
    "from sklearn.svm import SVC\n",
    "\n",
    "# diabetes.csv file:\n",
    "\n",
    "diabetes_path = \"C:/Users/Nik/Documents/diabetes.csv\"\n",
    "diabetes_df = pd.read_csv(diabetes_path)\n",
    "diabetes_df.head(1)"
   ]
  },
  {
   "cell_type": "code",
   "execution_count": null,
   "id": "04e016de",
   "metadata": {},
   "outputs": [],
   "source": []
  },
  {
   "cell_type": "code",
   "execution_count": null,
   "id": "539c6746",
   "metadata": {},
   "outputs": [],
   "source": []
  },
  {
   "cell_type": "code",
   "execution_count": null,
   "id": "8fda4e7d",
   "metadata": {},
   "outputs": [],
   "source": []
  },
  {
   "cell_type": "code",
   "execution_count": null,
   "id": "fabe0fdb",
   "metadata": {},
   "outputs": [],
   "source": []
  },
  {
   "cell_type": "markdown",
   "id": "a8820ccb",
   "metadata": {},
   "source": [
    "1. Write simple (straightforward) definitions for the following parameters for RandomForestClassifier \n",
    "(https://scikit-learn.org/stable/modules/generated/sklearn.ensemble.RandomForestClass ifier.html) and indicate how they correlate with the precision and recall for the basic diabetes model we built in class. You will need to rerun the model multiple times to do so. \n",
    "\n",
    "\n",
    "<table border=\"1\">\n",
    " <tr>\n",
    "    <td><b style=\"font-size:20px\">Parameter</b></td>\n",
    "    <td><b style=\"font-size:20px\">Definition</b></td>\n",
    "    <td><b style=\"font-size:20px\">Correlation with Precision</b></td>\n",
    "    <td><b style=\"font-size:20px\">Correlation with Recall</b></td>\n",
    " </tr>\n",
    " <tr>\n",
    "    <td>estimators</td>\n",
    "    <td>...</td>\n",
    "    <td>...</td>\n",
    "    <td>...</td>\n",
    " </tr>\n",
    " <tr>\n",
    "    <td>max_depth</td>\n",
    "    <td>...</td>\n",
    "    <td>...</td>\n",
    "    <td>...</td> \n",
    " </tr>\n",
    " <tr>\n",
    "    <td>min_samples_split</td>\n",
    "    <td>...</td>\n",
    "    <td>...</td>\n",
    "    <td>...</td> \n",
    " </tr>\n",
    " <tr>\n",
    "    <td>min_samples_leaf</td>\n",
    "    <td>...</td>\n",
    "    <td>...</td>\n",
    "    <td>...</td> \n",
    " </tr>\n",
    " <tr>\n",
    "    <td>min_weight_fraction_leaf</td>\n",
    "    <td>...</td>\n",
    "    <td>...</td>\n",
    "    <td>...</td> \n",
    " </tr>\n",
    " <tr>\n",
    "    <td>max_leaf_nodes</td>\n",
    "    <td>...</td>\n",
    "    <td>...</td>\n",
    "    <td>...</td> \n",
    " </tr>\n",
    " <tr>\n",
    "    <td>min_impurity_decrease</td>\n",
    "    <td>...</td>\n",
    "    <td>...</td>\n",
    "    <td>...</td> \n",
    " </tr>\n",
    " <tr>\n",
    "    <td>min_impurity_split</td>\n",
    "    <td>...</td>\n",
    "    <td>...</td>\n",
    "    <td>...</td> \n",
    " </tr>\n",
    " \n",
    "<script src=\"https://cdn.mathjax.org/mathjax/latest/MathJax.js?config=TeX-AMS-MML_HTMLorMML\" type=\"text/javascript\"></script>\n",
    "    \n",
    "</table>"
   ]
  },
  {
   "cell_type": "code",
   "execution_count": null,
   "id": "e8c75f52",
   "metadata": {},
   "outputs": [],
   "source": []
  },
  {
   "cell_type": "code",
   "execution_count": null,
   "id": "d2e7ab1e",
   "metadata": {},
   "outputs": [],
   "source": []
  },
  {
   "cell_type": "code",
   "execution_count": null,
   "id": "88657b0c",
   "metadata": {},
   "outputs": [],
   "source": []
  },
  {
   "cell_type": "markdown",
   "id": "b49478e8",
   "metadata": {},
   "source": [
    "2. How does setting bootstrap=False influence the model performance? Note: the default is bootstrap=True. Explain why your results might be so."
   ]
  },
  {
   "cell_type": "code",
   "execution_count": null,
   "id": "5e22a825",
   "metadata": {},
   "outputs": [],
   "source": []
  }
 ],
 "metadata": {
  "kernelspec": {
   "display_name": "Python 3 (ipykernel)",
   "language": "python",
   "name": "python3"
  },
  "language_info": {
   "codemirror_mode": {
    "name": "ipython",
    "version": 3
   },
   "file_extension": ".py",
   "mimetype": "text/x-python",
   "name": "python",
   "nbconvert_exporter": "python",
   "pygments_lexer": "ipython3",
   "version": "3.9.7"
  }
 },
 "nbformat": 4,
 "nbformat_minor": 5
}
