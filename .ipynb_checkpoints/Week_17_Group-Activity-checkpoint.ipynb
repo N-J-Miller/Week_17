{
 "cells": [
  {
   "cell_type": "markdown",
   "id": "9588c7e6",
   "metadata": {},
   "source": [
    "# Week 17 Group Activity"
   ]
  },
  {
   "cell_type": "code",
   "execution_count": 27,
   "id": "33083caa",
   "metadata": {},
   "outputs": [],
   "source": [
    "# Dependencies and modules:\n",
    "\n",
    "import pandas as pd\n",
    "import numpy as np\n",
    "\n",
    "from sklearn.model_selection import train_test_split\n",
    "from sklearn.preprocessing import StandardScaler\n",
    "\n",
    "from imblearn.over_sampling import SMOTE\n",
    "from imblearn.combine import SMOTEENN\n",
    "from imblearn.under_sampling import EditedNearestNeighbours\n",
    "\n",
    "from sklearn.linear_model import LogisticRegression\n",
    "from imblearn.pipeline import Pipeline\n",
    "\n",
    "from sklearn.metrics import classification_report, roc_curve, roc_auc_score\n",
    "\n",
    "import matplotlib.pyplot as plt\n",
    "\n",
    "from sklearn.svm import SVC"
   ]
  },
  {
   "cell_type": "code",
   "execution_count": 28,
   "id": "07c8b477",
   "metadata": {},
   "outputs": [],
   "source": [
    "# setting style for my rendered tables:"
   ]
  },
  {
   "cell_type": "code",
   "execution_count": 29,
   "id": "b8bbe844",
   "metadata": {},
   "outputs": [
    {
     "data": {
      "text/html": [
       "<style> \n",
       "table th {color:blue !important;}\n",
       "table td, table th, table tr {text-align:left !important;}\n",
       "table, th, td {border: 1px solid black !important;}\n",
       "</style>\n"
      ],
      "text/plain": [
       "<IPython.core.display.HTML object>"
      ]
     },
     "metadata": {},
     "output_type": "display_data"
    }
   ],
   "source": [
    "%%html\n",
    "<style> \n",
    "table th {color:blue !important;}\n",
    "table td, table th, table tr {text-align:left !important;}\n",
    "table, th, td {border: 1px solid black !important;}\n",
    "</style>"
   ]
  },
  {
   "cell_type": "code",
   "execution_count": 30,
   "id": "6228d29b",
   "metadata": {},
   "outputs": [
    {
     "data": {
      "text/html": [
       "<div>\n",
       "<style scoped>\n",
       "    .dataframe tbody tr th:only-of-type {\n",
       "        vertical-align: middle;\n",
       "    }\n",
       "\n",
       "    .dataframe tbody tr th {\n",
       "        vertical-align: top;\n",
       "    }\n",
       "\n",
       "    .dataframe thead th {\n",
       "        text-align: right;\n",
       "    }\n",
       "</style>\n",
       "<table border=\"1\" class=\"dataframe\">\n",
       "  <thead>\n",
       "    <tr style=\"text-align: right;\">\n",
       "      <th></th>\n",
       "      <th>Pregnancies</th>\n",
       "      <th>Glucose</th>\n",
       "      <th>BloodPressure</th>\n",
       "      <th>SkinThickness</th>\n",
       "      <th>Insulin</th>\n",
       "      <th>BMI</th>\n",
       "      <th>DiabetesPedigreeFunction</th>\n",
       "      <th>Age</th>\n",
       "      <th>Outcome</th>\n",
       "    </tr>\n",
       "  </thead>\n",
       "  <tbody>\n",
       "    <tr>\n",
       "      <th>0</th>\n",
       "      <td>6</td>\n",
       "      <td>148</td>\n",
       "      <td>72</td>\n",
       "      <td>35</td>\n",
       "      <td>0</td>\n",
       "      <td>33.6</td>\n",
       "      <td>0.627</td>\n",
       "      <td>50</td>\n",
       "      <td>1</td>\n",
       "    </tr>\n",
       "  </tbody>\n",
       "</table>\n",
       "</div>"
      ],
      "text/plain": [
       "   Pregnancies  Glucose  BloodPressure  SkinThickness  Insulin   BMI  \\\n",
       "0            6      148             72             35        0  33.6   \n",
       "\n",
       "   DiabetesPedigreeFunction  Age  Outcome  \n",
       "0                     0.627   50        1  "
      ]
     },
     "execution_count": 30,
     "metadata": {},
     "output_type": "execute_result"
    }
   ],
   "source": [
    "# diabetes.csv file:\n",
    "\n",
    "diabetes_path = \"C:/Users/Nik/Documents/diabetes.csv\"\n",
    "diabetes_df = pd.read_csv(diabetes_path)\n",
    "diabetes_df.head(1)"
   ]
  },
  {
   "cell_type": "markdown",
   "id": "9840d6fb",
   "metadata": {},
   "source": [
    "### 1. Write simple (straightforward) definitions for the following parameters for RandomForestClassifier (https://scikit-learn.org/stable/modules/generated/sklearn.ensemble.RandomForestClassifier.html) and indicate how they correlate with the precision and recall for the basic diabetes model we built in class. You will need to rerun the model multiple times to do so. "
   ]
  },
  {
   "cell_type": "code",
   "execution_count": 31,
   "id": "04e016de",
   "metadata": {},
   "outputs": [],
   "source": [
    "X = diabetes_df.drop('Outcome', axis=1)\n",
    "y = diabetes_df['Outcome']\n",
    "\n",
    "X_train, X_test, y_train, y_test = train_test_split(X, y, test_size = 0.3, random_state=42)\n",
    "\n",
    "sc= StandardScaler()\n",
    "X_train=sc.fit_transform(X_train)\n",
    "X_test=sc.fit_transform(X_test)"
   ]
  },
  {
   "cell_type": "code",
   "execution_count": 32,
   "id": "539c6746",
   "metadata": {},
   "outputs": [
    {
     "name": "stdout",
     "output_type": "stream",
     "text": [
      "              precision    recall  f1-score   support\n",
      "\n",
      "           0       0.81      0.81      0.81       151\n",
      "           1       0.64      0.65      0.65        80\n",
      "\n",
      "    accuracy                           0.75       231\n",
      "   macro avg       0.73      0.73      0.73       231\n",
      "weighted avg       0.75      0.75      0.75       231\n",
      "\n"
     ]
    }
   ],
   "source": [
    "from sklearn.ensemble import RandomForestClassifier\n",
    "\n",
    "# Model with all default parameters:\n",
    "\n",
    "rf = RandomForestClassifier(n_estimators=100, max_depth= None, min_samples_split= 2, min_samples_leaf = 1, min_weight_fraction_leaf = 0.0, max_leaf_nodes = None, min_impurity_decrease = 0.0, bootstrap=True, random_state=42)\n",
    "\n",
    "rf = rf.fit(X_train, y_train)\n",
    "predictions = rf.predict(X_test)\n",
    "print(classification_report(y_test,predictions))"
   ]
  },
  {
   "cell_type": "code",
   "execution_count": 33,
   "id": "072776c4",
   "metadata": {},
   "outputs": [
    {
     "name": "stdout",
     "output_type": "stream",
     "text": [
      "              precision    recall  f1-score   support\n",
      "\n",
      "           0       0.69      0.95      0.80       151\n",
      "           1       0.67      0.20      0.31        80\n",
      "\n",
      "    accuracy                           0.69       231\n",
      "   macro avg       0.68      0.57      0.55       231\n",
      "weighted avg       0.68      0.69      0.63       231\n",
      "\n"
     ]
    }
   ],
   "source": [
    "from sklearn.ensemble import RandomForestClassifier\n",
    "\n",
    "# Model to tweak:\n",
    "\n",
    "rf = RandomForestClassifier(n_estimators=100, max_depth= None, min_samples_split= 2, min_samples_leaf =1, min_weight_fraction_leaf = 0.0, max_leaf_nodes = None, min_impurity_decrease = 0.05, bootstrap=True, random_state=42)\n",
    "\n",
    "rf = rf.fit(X_train, y_train)\n",
    "predictions = rf.predict(X_test)\n",
    "print(classification_report(y_test,predictions))"
   ]
  },
  {
   "cell_type": "markdown",
   "id": "a8820ccb",
   "metadata": {},
   "source": [
    "<table border=\"1\">\n",
    " <tr>\n",
    "    <th style=\"font-size:20px\">Parameter</th>\n",
    "    <th style=\"font-size:20px\">Definition</th>\n",
    "    <th style=\"font-size:20px\">Correlation with Precision</th>\n",
    "    <th style=\"font-size:20px\">Correlation with Recall</th>\n",
    " </tr>\n",
    " <tr>\n",
    "    <td>estimators</td>\n",
    "    <td>number of trees in the forest</td>\n",
    "    <td>fewer estimators lowers sensitivity</td>\n",
    "    <td>fewer estimators decreases NPV</td>\n",
    " </tr>\n",
    " <tr>\n",
    "    <td>max_depth</td>\n",
    "    <td>limit set on branches of tree</td>\n",
    "    <td>less depth means less specificity but more sensitivity</td>\n",
    "    <td>less depth means greater NPV but lower PPV</td> \n",
    " </tr>\n",
    " <tr>\n",
    "    <td>min_samples_split</td>\n",
    "    <td>number of samples that must be present before a node gets to split</td>\n",
    "    <td>jacked high, this parameter produces less specificity but more sensitivity</td>\n",
    "    <td>jacked high, this parameter produces *significantly* greater NPV but lower PPV</td> \n",
    " </tr>\n",
    " <tr>\n",
    "    <td>min_samples_leaf</td>\n",
    "    <td>number of samples that must be left in each side of a split node</td>\n",
    "    <td>if this parameter gets raised, you get less specificity but more sensitivity</td>\n",
    "    <td>if this parameter gets raised, you get greater NPV but lower PPV</td> \n",
    " </tr>\n",
    " <tr>\n",
    "    <td>min_weight_fraction_leaf</td>\n",
    "    <td>percent of entire sample weight that must be in each leaf</td>\n",
    "    <td>if taken to 33%, specificity tanks and sensitivity moderately rises</td>\n",
    "    <td>if taken to 33%, you get *significantly* greater NPV but lower PPV</td> \n",
    " </tr>\n",
    " <tr>\n",
    "    <td>max_leaf_nodes</td>\n",
    "    <td>limits the number of nodes that can split off, best-first</td>\n",
    "    <td>if leaf nodes are severely limited (3), you get less specificity but more sensitivity</td>\n",
    "    <td>if leaf nodes are severely limited (3), you get *significantly* greater NPV but lower PPV</td> \n",
    " </tr>\n",
    " <tr>\n",
    "    <td>min_impurity_decrease</td>\n",
    "    <td>sets nodes to only split if there is at least this much impurity decrease</td>\n",
    "    <td>a 5% limit doesn't affect sensitivity much, but specificity tanks</td>\n",
    "    <td>a 5% limit *significantly* spikes NPV and tanks PPV</td> \n",
    " </tr>\n",
    " <tr>\n",
    "    <td>min_impurity_split</td>\n",
    "    <td>deprecated</td>\n",
    "    <td>X</td>\n",
    "    <td>X</td> \n",
    " </tr>\n",
    " \n",
    "<script src=\"https://cdn.mathjax.org/mathjax/latest/MathJax.js?config=TeX-AMS-MML_HTMLorMML\" type=\"text/javascript\"></script>\n",
    "    \n",
    "</table>"
   ]
  },
  {
   "cell_type": "markdown",
   "id": "b49478e8",
   "metadata": {},
   "source": [
    "2. How does setting bootstrap=False influence the model performance? Note: the default is bootstrap=True. Explain why your results might be so."
   ]
  },
  {
   "cell_type": "markdown",
   "id": "f6b954b8",
   "metadata": {},
   "source": [
    "The model performs more poorly overall when bootstrap= False. This is because there will be fewer samples to fit to the model and there might not be enough samples to fill each determined parameter. Whereas with bootstrapping, data will be synthisized until desired parameters are met. It would be a shame to spend time tweaking and tuning your parameters and run out of data before you are able to optimize your model."
   ]
  },
  {
   "cell_type": "code",
   "execution_count": null,
   "id": "f4cde824",
   "metadata": {},
   "outputs": [],
   "source": []
  }
 ],
 "metadata": {
  "kernelspec": {
   "display_name": "Python 3 (ipykernel)",
   "language": "python",
   "name": "python3"
  },
  "language_info": {
   "codemirror_mode": {
    "name": "ipython",
    "version": 3
   },
   "file_extension": ".py",
   "mimetype": "text/x-python",
   "name": "python",
   "nbconvert_exporter": "python",
   "pygments_lexer": "ipython3",
   "version": "3.9.7"
  }
 },
 "nbformat": 4,
 "nbformat_minor": 5
}
